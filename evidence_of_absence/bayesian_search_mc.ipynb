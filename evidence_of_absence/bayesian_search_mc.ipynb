{
 "cells": [
  {
   "cell_type": "code",
   "execution_count": 1,
   "metadata": {},
   "outputs": [],
   "source": [
    "import numpy as np\n",
    "from typing import Optional"
   ]
  },
  {
   "cell_type": "code",
   "execution_count": 2,
   "metadata": {},
   "outputs": [],
   "source": [
    "PROBABILITY_THAT_IN_BOX = 0.80\n",
    "NUM_COMPARTMENTS = 4\n",
    "NUM_COMPARTMENTS_SEEN = 3"
   ]
  },
  {
   "cell_type": "code",
   "execution_count": 3,
   "metadata": {},
   "outputs": [],
   "source": [
    "def sample() -> Optional[int]:\n",
    "    \"\"\"Returns the compartment (0..NUM_COMPARTMENTS - 1) or None\"\"\"\n",
    "    in_jacket = np.random.uniform() < PROBABILITY_THAT_IN_BOX\n",
    "    if in_jacket:\n",
    "        compartment = np.random.choice(NUM_COMPARTMENTS)\n",
    "    else:\n",
    "        compartment = None\n",
    "    return compartment"
   ]
  },
  {
   "cell_type": "code",
   "execution_count": 4,
   "metadata": {},
   "outputs": [
    {
     "name": "stdout",
     "output_type": "stream",
     "text": [
      "19910:19911 or 50.0%\n"
     ]
    }
   ],
   "source": [
    "s_true = 0\n",
    "s_false = 0\n",
    "for i in range(100000):\n",
    "    s = sample()\n",
    "    if s is not None and s < NUM_COMPARTMENTS_SEEN:\n",
    "        # We found it already\n",
    "        continue\n",
    "    if s is None:\n",
    "        s_false += 1\n",
    "    elif s >= NUM_COMPARTMENTS_SEEN:\n",
    "        s_true += 1\n",
    "    else:\n",
    "        raise ValueError(s)\n",
    "print(f\"{s_true}:{s_false} or {100. * s_true / (s_false + s_true):.1f}%\")"
   ]
  },
  {
   "cell_type": "code",
   "execution_count": 5,
   "metadata": {},
   "outputs": [
    {
     "data": {
      "text/plain": [
       "'50.0%'"
      ]
     },
     "execution_count": 5,
     "metadata": {},
     "output_type": "execute_result"
    }
   ],
   "source": [
    "def probability_to_odds(p: float) -> float:\n",
    "    return p / (1 - p)\n",
    "\n",
    "def odds_to_probability(o: float) -> float:\n",
    "    return o / (1 + o)\n",
    "\n",
    "theoretical_probability = odds_to_probability(\n",
    "    probability_to_odds(PROBABILITY_THAT_IN_BOX) \n",
    "    * (1 - NUM_COMPARTMENTS_SEEN / NUM_COMPARTMENTS)\n",
    ")\n",
    "\n",
    "f\"{100. * theoretical_probability:.1f}%\""
   ]
  }
 ],
 "metadata": {
  "interpreter": {
   "hash": "49f508ea8f5c4f1dddec4b6684f9dcc6e5b948750b356ffc10c0a5d65bb12f7f"
  },
  "kernelspec": {
   "display_name": "Python 3.8.0 64-bit ('rlpm': conda)",
   "language": "python",
   "name": "python3"
  },
  "language_info": {
   "codemirror_mode": {
    "name": "ipython",
    "version": 3
   },
   "file_extension": ".py",
   "mimetype": "text/x-python",
   "name": "python",
   "nbconvert_exporter": "python",
   "pygments_lexer": "ipython3",
   "version": "3.8.0"
  },
  "orig_nbformat": 4
 },
 "nbformat": 4,
 "nbformat_minor": 2
}
